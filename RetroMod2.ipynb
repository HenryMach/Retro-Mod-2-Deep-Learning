{
  "nbformat": 4,
  "nbformat_minor": 0,
  "metadata": {
    "colab": {
      "provenance": [],
      "toc_visible": true
    },
    "kernelspec": {
      "name": "python3",
      "display_name": "Python 3"
    },
    "language_info": {
      "name": "python"
    },
    "accelerator": "GPU",
    "gpuClass": "standard"
  },
  "cells": [
    {
      "cell_type": "markdown",
      "source": [
        "# Librerias"
      ],
      "metadata": {
        "id": "4TeSQfUl4uDu"
      }
    },
    {
      "cell_type": "code",
      "execution_count": 1,
      "metadata": {
        "id": "P9zQb06tjj6B"
      },
      "outputs": [],
      "source": [
        "import tensorflow as tf\n",
        "from tensorflow import keras\n",
        "import numpy as np \n",
        "import pandas as pd \n",
        "import os\n",
        "import matplotlib.pyplot as plt\n",
        "import cv2\n",
        "from sklearn.model_selection import train_test_split\n",
        "import random"
      ]
    },
    {
      "cell_type": "code",
      "source": [
        "from keras.utils import to_categorical\n",
        "from keras.layers import Dense,Conv2D,Flatten,MaxPool2D,Dropout, BatchNormalization, RandomFlip, RandomRotation, RandomZoom\n",
        "from keras.models import Sequential\n",
        "from keras import layers"
      ],
      "metadata": {
        "id": "zdD0rW1JqBCG"
      },
      "execution_count": 2,
      "outputs": []
    },
    {
      "cell_type": "markdown",
      "source": [
        "# Datasets"
      ],
      "metadata": {
        "id": "6723guTz44cJ"
      }
    },
    {
      "cell_type": "markdown",
      "source": [
        "[Kaggle: Fruit Images for Object Detection](https://www.kaggle.com/datasets/mbkinaci/fruit-images-for-object-detection)"
      ],
      "metadata": {
        "id": "a1b82p-3GViN"
      }
    },
    {
      "cell_type": "markdown",
      "source": [
        "## Train & validation datasets"
      ],
      "metadata": {
        "id": "Ldle7yHN4zxX"
      }
    },
    {
      "cell_type": "code",
      "source": [
        "train_imgs = []       \n",
        "train_labels = []\n",
        "shape = (200,200)  \n",
        "train_path = '/content/drive/MyDrive/Escuela/ITESM IDM/Septimo Semestre/Inteligencia artificial avanzada para la ciencia de datos II/Módulo 2/Momento Retroalimentación Deep Learning/Fruits/train/'\n",
        "\n",
        "for filename in os.listdir(train_path):\n",
        "    if filename.split('.')[1] == 'jpg':\n",
        "        img = cv2.imread(os.path.join(train_path,filename))\n",
        "        \n",
        "        # Spliting file names and storing the labels for image in list\n",
        "        train_labels.append(filename.split('_')[0])\n",
        "        \n",
        "        # Resize all images to a specific shape\n",
        "        img = cv2.resize(img,shape)\n",
        "        \n",
        "        train_imgs.append(img)\n",
        "\n",
        "# Converting labels into One Hot encoded sparse matrix\n",
        "train_labels = pd.get_dummies(train_labels).values\n",
        "\n",
        "# Converting train_images to array\n",
        "train_images = np.array(train_imgs)\n",
        "\n",
        "# Splitting Training data into train and validation dataset\n",
        "x_train,x_val,y_train,y_val = train_test_split(train_images,train_labels,random_state=1)\n",
        "\n",
        "print(x_train.shape)"
      ],
      "metadata": {
        "colab": {
          "base_uri": "https://localhost:8080/"
        },
        "id": "q28ROJZLlekL",
        "outputId": "7800b8ae-4236-4fa9-fdab-1101ecb2bd76"
      },
      "execution_count": 3,
      "outputs": [
        {
          "output_type": "stream",
          "name": "stdout",
          "text": [
            "(180, 200, 200, 3)\n"
          ]
        }
      ]
    },
    {
      "cell_type": "markdown",
      "source": [
        "## Test dataset"
      ],
      "metadata": {
        "id": "eY5-kSBu48F_"
      }
    },
    {
      "cell_type": "code",
      "source": [
        "test_images = []\n",
        "test_labels = []\n",
        "shape = (200,200)\n",
        "test_path = '/content/drive/MyDrive/Escuela/ITESM IDM/Septimo Semestre/Inteligencia artificial avanzada para la ciencia de datos II/Módulo 2/Momento Retroalimentación Deep Learning/Fruits/test/'\n",
        "\n",
        "for filename in os.listdir(test_path):\n",
        "    if filename.split('.')[1] == 'jpg':\n",
        "        img = cv2.imread(os.path.join(test_path,filename))\n",
        "        \n",
        "        # Spliting file names and storing the labels for image in list\n",
        "        test_labels.append(filename.split('_')[0])\n",
        "        \n",
        "        # Resize all images to a specific shape\n",
        "        img = cv2.resize(img,shape)\n",
        "        \n",
        "        test_images.append(img)\n",
        "        \n",
        "# Converting test_images to array\n",
        "test_images = np.array(test_images)\n",
        "\n",
        "test_labels_dum = pd.get_dummies(test_labels).values"
      ],
      "metadata": {
        "id": "9yBsem3am9sN"
      },
      "execution_count": 4,
      "outputs": []
    },
    {
      "cell_type": "code",
      "source": [
        "index = random.randint(0,x_train.shape[0])\n",
        "print(train_labels[index])\n",
        "plt.imshow(train_images[index])"
      ],
      "metadata": {
        "colab": {
          "base_uri": "https://localhost:8080/",
          "height": 304
        },
        "id": "79XsUznioJoE",
        "outputId": "3b6d5724-b519-4065-fab6-5a6da9988109"
      },
      "execution_count": 5,
      "outputs": [
        {
          "output_type": "stream",
          "name": "stdout",
          "text": [
            "[0 0 1 0]\n"
          ]
        },
        {
          "output_type": "execute_result",
          "data": {
            "text/plain": [
              "<matplotlib.image.AxesImage at 0x7f7dfe19dad0>"
            ]
          },
          "metadata": {},
          "execution_count": 5
        },
        {
          "output_type": "display_data",
          "data": {
            "text/plain": [
              "<Figure size 432x288 with 1 Axes>"
            ],
            "image/png": "[encoded data removed]"
          },
          "metadata": {
            "needs_background": "light"
          }
        }
      ]
    },
    {
      "cell_type": "markdown",
      "source": [
        "# Modelos"
      ],
      "metadata": {
        "id": "mZ3YUvrv57pz"
      }
    },
    {
      "cell_type": "markdown",
      "source": [
        "## Primer Modelo: Red Densa\n",
        "\n",
        "\n",
        "\n",
        "*   2 Capas Densas\n",
        "\n"
      ],
      "metadata": {
        "id": "q66EFa5o5-NN"
      }
    },
    {
      "cell_type": "code",
      "source": [
        "model1 = keras.models.Sequential()\n",
        "model1.add(keras.layers.Flatten(input_shape=(200,200,3,)))\n",
        "model1.add(keras.layers.Dense(100, activation='relu'))\n",
        "model1.add(keras.layers.Dense(4, activation='softmax'))\n",
        "\n",
        "\n",
        "model1.compile(\n",
        "              loss='categorical_crossentropy', \n",
        "              metrics=['acc'],\n",
        "              optimizer='adam'\n",
        "             )\n",
        "\n",
        "model1.summary()"
      ],
      "metadata": {
        "colab": {
          "base_uri": "https://localhost:8080/"
        },
        "id": "0mSjF7t68ySM",
        "outputId": "03d8e21b-cea8-46be-a137-bbdaded69ea6"
      },
      "execution_count": 6,
      "outputs": [
        {
          "output_type": "stream",
          "name": "stdout",
          "text": [
            "Model: \"sequential\"\n",
            "_________________________________________________________________\n",
            " Layer (type)                Output Shape              Param #   \n",
            "=================================================================\n",
            " flatten (Flatten)           (None, 120000)            0         \n",
            "                                                                 \n",
            " dense (Dense)               (None, 100)               12000100  \n",
            "                                                                 \n",
            " dense_1 (Dense)             (None, 4)                 404       \n",
            "                                                                 \n",
            "=================================================================\n",
            "Total params: 12,000,504\n",
            "Trainable params: 12,000,504\n",
            "Non-trainable params: 0\n",
            "_________________________________________________________________\n"
          ]
        }
      ]
    },
    {
      "cell_type": "code",
      "source": [
        "history1 = model1.fit(x_train,y_train,epochs=50,batch_size=50,validation_data=(x_val,y_val))"
      ],
      "metadata": {
        "colab": {
          "base_uri": "https://localhost:8080/"
        },
        "outputId": "f56e581f-49ab-42a5-961f-54cfb40d139c",
        "id": "VC_Gidh49jst"
      },
      "execution_count": 7,
      "outputs": [
        {
          "output_type": "stream",
          "name": "stdout",
          "text": [
            "Epoch 1/50\n",
            "4/4 [==============================] - 3s 86ms/step - loss: 22810.1855 - acc: 0.2722 - val_loss: 29285.2559 - val_acc: 0.3833\n",
            "Epoch 2/50\n",
            "4/4 [==============================] - 0s 17ms/step - loss: 31817.8770 - acc: 0.3222 - val_loss: 16013.4854 - val_acc: 0.3000\n",
            "Epoch 3/50\n",
            "4/4 [==============================] - 0s 18ms/step - loss: 17591.7910 - acc: 0.3000 - val_loss: 8837.3428 - val_acc: 0.3667\n",
            "Epoch 4/50\n",
            "4/4 [==============================] - 0s 19ms/step - loss: 6797.3188 - acc: 0.4111 - val_loss: 4602.0181 - val_acc: 0.3500\n",
            "Epoch 5/50\n",
            "4/4 [==============================] - 0s 18ms/step - loss: 4057.6135 - acc: 0.3333 - val_loss: 1753.9510 - val_acc: 0.5500\n",
            "Epoch 6/50\n",
            "4/4 [==============================] - 0s 17ms/step - loss: 1530.0654 - acc: 0.6111 - val_loss: 2366.1514 - val_acc: 0.4833\n",
            "Epoch 7/50\n",
            "4/4 [==============================] - 0s 21ms/step - loss: 1490.2509 - acc: 0.6056 - val_loss: 2822.4932 - val_acc: 0.4333\n",
            "Epoch 8/50\n",
            "4/4 [==============================] - 0s 18ms/step - loss: 1605.4337 - acc: 0.5278 - val_loss: 1598.0817 - val_acc: 0.5667\n",
            "Epoch 9/50\n",
            "4/4 [==============================] - 0s 19ms/step - loss: 1094.6263 - acc: 0.6889 - val_loss: 1170.4329 - val_acc: 0.6333\n",
            "Epoch 10/50\n",
            "4/4 [==============================] - 0s 25ms/step - loss: 920.5851 - acc: 0.7000 - val_loss: 720.5419 - val_acc: 0.6000\n",
            "Epoch 11/50\n",
            "4/4 [==============================] - 0s 18ms/step - loss: 621.6394 - acc: 0.7778 - val_loss: 526.6770 - val_acc: 0.7500\n",
            "Epoch 12/50\n",
            "4/4 [==============================] - 0s 19ms/step - loss: 544.5578 - acc: 0.8111 - val_loss: 475.4942 - val_acc: 0.7500\n",
            "Epoch 13/50\n",
            "4/4 [==============================] - 0s 18ms/step - loss: 344.2989 - acc: 0.8611 - val_loss: 440.4954 - val_acc: 0.7500\n",
            "Epoch 14/50\n",
            "4/4 [==============================] - 0s 20ms/step - loss: 300.7346 - acc: 0.8278 - val_loss: 253.2195 - val_acc: 0.7833\n",
            "Epoch 15/50\n",
            "4/4 [==============================] - 0s 19ms/step - loss: 191.6880 - acc: 0.8889 - val_loss: 259.3040 - val_acc: 0.7500\n",
            "Epoch 16/50\n",
            "4/4 [==============================] - 0s 19ms/step - loss: 167.9805 - acc: 0.9056 - val_loss: 273.4301 - val_acc: 0.7167\n",
            "Epoch 17/50\n",
            "4/4 [==============================] - 0s 18ms/step - loss: 123.4251 - acc: 0.9000 - val_loss: 211.9941 - val_acc: 0.7500\n",
            "Epoch 18/50\n",
            "4/4 [==============================] - 0s 19ms/step - loss: 86.0786 - acc: 0.9333 - val_loss: 204.6500 - val_acc: 0.7667\n",
            "Epoch 19/50\n",
            "4/4 [==============================] - 0s 19ms/step - loss: 61.2799 - acc: 0.9389 - val_loss: 257.3626 - val_acc: 0.7500\n",
            "Epoch 20/50\n",
            "4/4 [==============================] - 0s 21ms/step - loss: 37.9196 - acc: 0.9556 - val_loss: 267.9450 - val_acc: 0.7000\n",
            "Epoch 21/50\n",
            "4/4 [==============================] - 0s 17ms/step - loss: 26.4914 - acc: 0.9500 - val_loss: 214.3940 - val_acc: 0.7000\n",
            "Epoch 22/50\n",
            "4/4 [==============================] - 0s 18ms/step - loss: 66.6422 - acc: 0.9278 - val_loss: 294.1331 - val_acc: 0.7167\n",
            "Epoch 23/50\n",
            "4/4 [==============================] - 0s 17ms/step - loss: 83.5264 - acc: 0.8944 - val_loss: 364.7611 - val_acc: 0.6333\n",
            "Epoch 24/50\n",
            "4/4 [==============================] - 0s 18ms/step - loss: 70.8149 - acc: 0.9056 - val_loss: 720.7358 - val_acc: 0.6667\n",
            "Epoch 25/50\n",
            "4/4 [==============================] - 0s 18ms/step - loss: 120.8985 - acc: 0.8944 - val_loss: 682.6019 - val_acc: 0.6333\n",
            "Epoch 26/50\n",
            "4/4 [==============================] - 0s 18ms/step - loss: 136.8836 - acc: 0.8722 - val_loss: 354.6573 - val_acc: 0.7500\n",
            "Epoch 27/50\n",
            "4/4 [==============================] - 0s 18ms/step - loss: 286.1411 - acc: 0.8167 - val_loss: 612.0178 - val_acc: 0.6667\n",
            "Epoch 28/50\n",
            "4/4 [==============================] - 0s 20ms/step - loss: 116.4984 - acc: 0.8833 - val_loss: 300.9816 - val_acc: 0.7833\n",
            "Epoch 29/50\n",
            "4/4 [==============================] - 0s 17ms/step - loss: 87.1221 - acc: 0.9056 - val_loss: 786.4044 - val_acc: 0.6000\n",
            "Epoch 30/50\n",
            "4/4 [==============================] - 0s 22ms/step - loss: 123.5383 - acc: 0.8722 - val_loss: 470.1942 - val_acc: 0.7500\n",
            "Epoch 31/50\n",
            "4/4 [==============================] - 0s 19ms/step - loss: 110.8459 - acc: 0.9222 - val_loss: 693.8983 - val_acc: 0.6167\n",
            "Epoch 32/50\n",
            "4/4 [==============================] - 0s 19ms/step - loss: 137.1624 - acc: 0.8833 - val_loss: 610.2068 - val_acc: 0.7000\n",
            "Epoch 33/50\n",
            "4/4 [==============================] - 0s 19ms/step - loss: 171.4992 - acc: 0.8444 - val_loss: 552.9698 - val_acc: 0.6500\n",
            "Epoch 34/50\n",
            "4/4 [==============================] - 0s 19ms/step - loss: 68.4751 - acc: 0.9333 - val_loss: 432.9220 - val_acc: 0.6333\n",
            "Epoch 35/50\n",
            "4/4 [==============================] - 0s 18ms/step - loss: 44.5556 - acc: 0.9667 - val_loss: 384.9126 - val_acc: 0.7833\n",
            "Epoch 36/50\n",
            "4/4 [==============================] - 0s 18ms/step - loss: 14.0692 - acc: 0.9833 - val_loss: 350.8796 - val_acc: 0.7333\n",
            "Epoch 37/50\n",
            "4/4 [==============================] - 0s 18ms/step - loss: 12.8680 - acc: 0.9667 - val_loss: 378.0118 - val_acc: 0.7167\n",
            "Epoch 38/50\n",
            "4/4 [==============================] - 0s 20ms/step - loss: 5.8934 - acc: 0.9722 - val_loss: 216.8793 - val_acc: 0.7667\n",
            "Epoch 39/50\n",
            "4/4 [==============================] - 0s 18ms/step - loss: 5.7477 - acc: 0.9833 - val_loss: 373.8264 - val_acc: 0.7333\n",
            "Epoch 40/50\n",
            "4/4 [==============================] - 0s 18ms/step - loss: 3.5077 - acc: 0.9722 - val_loss: 849.3172 - val_acc: 0.6333\n",
            "Epoch 41/50\n",
            "4/4 [==============================] - 0s 20ms/step - loss: 61.8294 - acc: 0.9056 - val_loss: 543.2687 - val_acc: 0.6167\n",
            "Epoch 42/50\n",
            "4/4 [==============================] - 0s 20ms/step - loss: 23.8089 - acc: 0.9500 - val_loss: 533.6518 - val_acc: 0.7333\n",
            "Epoch 43/50\n",
            "4/4 [==============================] - 0s 21ms/step - loss: 26.3547 - acc: 0.9389 - val_loss: 485.2401 - val_acc: 0.6667\n",
            "Epoch 44/50\n",
            "4/4 [==============================] - 0s 18ms/step - loss: 10.6296 - acc: 0.9833 - val_loss: 551.2538 - val_acc: 0.7167\n",
            "Epoch 45/50\n",
            "4/4 [==============================] - 0s 18ms/step - loss: 1.2199 - acc: 0.9889 - val_loss: 482.8262 - val_acc: 0.6500\n",
            "Epoch 46/50\n",
            "4/4 [==============================] - 0s 17ms/step - loss: 27.3325 - acc: 0.9333 - val_loss: 649.8539 - val_acc: 0.6500\n",
            "Epoch 47/50\n",
            "4/4 [==============================] - 0s 19ms/step - loss: 47.3834 - acc: 0.9278 - val_loss: 445.9543 - val_acc: 0.7000\n",
            "Epoch 48/50\n",
            "4/4 [==============================] - 0s 19ms/step - loss: 37.9424 - acc: 0.9500 - val_loss: 344.2149 - val_acc: 0.8000\n",
            "Epoch 49/50\n",
            "4/4 [==============================] - 0s 19ms/step - loss: 33.8450 - acc: 0.9556 - val_loss: 376.2608 - val_acc: 0.7167\n",
            "Epoch 50/50\n",
            "4/4 [==============================] - 0s 16ms/step - loss: 7.5138 - acc: 0.9833 - val_loss: 488.8740 - val_acc: 0.7500\n"
          ]
        }
      ]
    },
    {
      "cell_type": "code",
      "source": [
        "plt.plot(history1.history['acc'])\n",
        "plt.plot(history1.history['val_acc'])\n",
        "plt.title('model accuracy')\n",
        "plt.ylabel('accuracy')\n",
        "plt.xlabel('epoch')\n",
        "plt.legend(['train', 'val'], loc='upper left')\n",
        "plt.show()"
      ],
      "metadata": {
        "colab": {
          "base_uri": "https://localhost:8080/",
          "height": 295
        },
        "outputId": "f5b7c5ce-15d6-4e40-c7b0-8ee1a0753b81",
        "id": "sN_0on0N9jst"
      },
      "execution_count": 8,
      "outputs": [
        {
          "output_type": "display_data",
          "data": {
            "text/plain": [
              "<Figure size 432x288 with 1 Axes>"
            ],
            "image/png": "[encoded data removed]"
          },
          "metadata": {
            "needs_background": "light"
          }
        }
      ]
    },
    {
      "cell_type": "code",
      "source": [
        "plt.plot(history1.history['loss'])\n",
        "plt.plot(history1.history['val_loss'])\n",
        "plt.title('model loss')\n",
        "plt.ylabel('loss')\n",
        "plt.xlabel('epoch')\n",
        "plt.legend(['train', 'val'], loc='upper left')\n",
        "plt.show()"
      ],
      "metadata": {
        "colab": {
          "base_uri": "https://localhost:8080/",
          "height": 295
        },
        "outputId": "8e73b7dc-2fc8-4b61-b133-371f8a2a75c9",
        "id": "_AGHyYXQ9jsu"
      },
      "execution_count": 9,
      "outputs": [
        {
          "output_type": "display_data",
          "data": {
            "text/plain": [
              "<Figure size 432x288 with 1 Axes>"
            ],
            "image/png": "[encoded data removed]"
          },
          "metadata": {
            "needs_background": "light"
          }
        }
      ]
    },
    {
      "cell_type": "code",
      "source": [
        "evaluate1 = model1.evaluate(x_val,y_val)\n",
        "print(evaluate1)"
      ],
      "metadata": {
        "colab": {
          "base_uri": "https://localhost:8080/"
        },
        "outputId": "bcb086e2-5b36-4c13-8f5c-7dc6333c8638",
        "id": "owkIYGeN9jsu"
      },
      "execution_count": 10,
      "outputs": [
        {
          "output_type": "stream",
          "name": "stdout",
          "text": [
            "2/2 [==============================] - 0s 13ms/step - loss: 488.8738 - acc: 0.7500\n",
            "[488.87384033203125, 0.75]\n"
          ]
        }
      ]
    },
    {
      "cell_type": "code",
      "source": [
        "evaluate1 = model1.evaluate(test_images, test_labels_dum)\n",
        "print(evaluate1)"
      ],
      "metadata": {
        "colab": {
          "base_uri": "https://localhost:8080/"
        },
        "outputId": "f98ed3a1-35ab-4ea4-d145-132e5313beee",
        "id": "kkWOZsQs9jsu"
      },
      "execution_count": 11,
      "outputs": [
        {
          "output_type": "stream",
          "name": "stdout",
          "text": [
            "2/2 [==============================] - 0s 10ms/step - loss: 585.3768 - acc: 0.7500\n",
            "[585.3768310546875, 0.75]\n"
          ]
        }
      ]
    },
    {
      "cell_type": "code",
      "source": [
        "index = random.randint(1,len(test_images))\n",
        "\n",
        "checkImage = test_images[index-1:index]\n",
        "checklabel = test_labels[index-1:index]\n",
        "\n",
        "predict1 = model1.predict(np.array(checkImage))\n",
        "print(predict1)\n",
        "\n",
        "output = { 0:'apple',1:'banana',2:'mixed',3:'orange'}\n",
        "\n",
        "print(\"Actual :- \",checklabel)\n",
        "print(\"Predicted :- \",output[np.argmax(predict1)])\n"
      ],
      "metadata": {
        "colab": {
          "base_uri": "https://localhost:8080/"
        },
        "outputId": "a33196f1-40a0-4297-c6ca-b13f08aa1465",
        "id": "9K6l4WRO9jsu"
      },
      "execution_count": 50,
      "outputs": [
        {
          "output_type": "stream",
          "name": "stdout",
          "text": [
            "1/1 [==============================] - 0s 22ms/step\n",
            "[[0. 0. 0. 1.]]\n",
            "Actual :-  ['banana']\n",
            "Predicted :-  orange\n"
          ]
        }
      ]
    },
    {
      "cell_type": "markdown",
      "source": [
        "## Segindo Modelo: Red Convolutiva I\n",
        "\n",
        "*   1 Capa Convolutiva\n",
        "*   1 Capa Pooling\n",
        "*   1 Capa Densa\n",
        "\n",
        "\n",
        "\n"
      ],
      "metadata": {
        "id": "sOC5id866A4Q"
      }
    },
    {
      "cell_type": "code",
      "source": [
        "model2= Sequential()\n",
        "model2.add(Conv2D(kernel_size=(3,3), filters=32, activation='tanh', input_shape=(200,200,3,)))\n",
        "model2.add(MaxPool2D(2,2))\n",
        "model2.add(Flatten())\n",
        "model2.add(Dense(4,activation = 'softmax'))\n",
        "    \n",
        "model2.compile(\n",
        "              loss='categorical_crossentropy', \n",
        "              metrics=['acc'],\n",
        "              optimizer='adam'\n",
        "             )\n",
        "\n",
        "model2.summary()"
      ],
      "metadata": {
        "colab": {
          "base_uri": "https://localhost:8080/"
        },
        "outputId": "b6c2762f-1d6f-41bf-99bc-ec143fb11bc8",
        "id": "Pbx3I8PhAEEk"
      },
      "execution_count": 51,
      "outputs": [
        {
          "output_type": "stream",
          "name": "stdout",
          "text": [
            "Model: \"sequential_6\"\n",
            "_________________________________________________________________\n",
            " Layer (type)                Output Shape              Param #   \n",
            "=================================================================\n",
            " conv2d_17 (Conv2D)          (None, 198, 198, 32)      896       \n",
            "                                                                 \n",
            " max_pooling2d_9 (MaxPooling  (None, 99, 99, 32)       0         \n",
            " 2D)                                                             \n",
            "                                                                 \n",
            " flatten_6 (Flatten)         (None, 313632)            0         \n",
            "                                                                 \n",
            " dense_15 (Dense)            (None, 4)                 1254532   \n",
            "                                                                 \n",
            "=================================================================\n",
            "Total params: 1,255,428\n",
            "Trainable params: 1,255,428\n",
            "Non-trainable params: 0\n",
            "_________________________________________________________________\n"
          ]
        }
      ]
    },
    {
      "cell_type": "code",
      "source": [
        "history2 = model2.fit(x_train,y_train,epochs=50,batch_size=50,validation_data=(x_val,y_val))"
      ],
      "metadata": {
        "colab": {
          "base_uri": "https://localhost:8080/"
        },
        "outputId": "96c4baaf-5a28-446f-b2a4-7b80b4e55115",
        "id": "Q607XyMxAEEm"
      },
      "execution_count": 52,
      "outputs": [
        {
          "output_type": "stream",
          "name": "stdout",
          "text": [
            "Epoch 1/50\n",
            "4/4 [==============================] - 1s 91ms/step - loss: 213.5345 - acc: 0.3111 - val_loss: 45.1746 - val_acc: 0.4167\n",
            "Epoch 2/50\n",
            "4/4 [==============================] - 0s 42ms/step - loss: 118.5772 - acc: 0.4111 - val_loss: 154.7639 - val_acc: 0.3500\n",
            "Epoch 3/50\n",
            "4/4 [==============================] - 0s 41ms/step - loss: 106.8788 - acc: 0.4611 - val_loss: 11.4532 - val_acc: 0.7000\n",
            "Epoch 4/50\n",
            "4/4 [==============================] - 0s 38ms/step - loss: 32.7143 - acc: 0.5500 - val_loss: 23.9610 - val_acc: 0.6833\n",
            "Epoch 5/50\n",
            "4/4 [==============================] - 0s 40ms/step - loss: 14.2669 - acc: 0.7333 - val_loss: 29.1437 - val_acc: 0.5000\n",
            "Epoch 6/50\n",
            "4/4 [==============================] - 0s 39ms/step - loss: 15.0532 - acc: 0.7111 - val_loss: 13.0759 - val_acc: 0.7667\n",
            "Epoch 7/50\n",
            "4/4 [==============================] - 0s 40ms/step - loss: 7.8016 - acc: 0.8556 - val_loss: 18.5777 - val_acc: 0.6667\n",
            "Epoch 8/50\n",
            "4/4 [==============================] - 0s 39ms/step - loss: 7.0471 - acc: 0.8611 - val_loss: 7.5895 - val_acc: 0.8000\n",
            "Epoch 9/50\n",
            "4/4 [==============================] - 0s 40ms/step - loss: 2.2138 - acc: 0.9278 - val_loss: 11.5715 - val_acc: 0.8000\n",
            "Epoch 10/50\n",
            "4/4 [==============================] - 0s 38ms/step - loss: 2.8693 - acc: 0.9111 - val_loss: 5.6135 - val_acc: 0.8833\n",
            "Epoch 11/50\n",
            "4/4 [==============================] - 0s 40ms/step - loss: 1.1509 - acc: 0.9389 - val_loss: 4.6973 - val_acc: 0.9000\n",
            "Epoch 12/50\n",
            "4/4 [==============================] - 0s 39ms/step - loss: 0.3623 - acc: 0.9778 - val_loss: 6.1809 - val_acc: 0.8500\n",
            "Epoch 13/50\n",
            "4/4 [==============================] - 0s 40ms/step - loss: 0.2833 - acc: 0.9833 - val_loss: 5.8023 - val_acc: 0.8000\n",
            "Epoch 14/50\n",
            "4/4 [==============================] - 0s 41ms/step - loss: 0.6830 - acc: 0.9556 - val_loss: 5.3786 - val_acc: 0.8333\n",
            "Epoch 15/50\n",
            "4/4 [==============================] - 0s 39ms/step - loss: 0.2908 - acc: 0.9778 - val_loss: 7.8819 - val_acc: 0.8333\n",
            "Epoch 16/50\n",
            "4/4 [==============================] - 0s 40ms/step - loss: 5.6440e-04 - acc: 1.0000 - val_loss: 4.6744 - val_acc: 0.8500\n",
            "Epoch 17/50\n",
            "4/4 [==============================] - 0s 39ms/step - loss: 1.8376e-05 - acc: 1.0000 - val_loss: 5.9326 - val_acc: 0.8000\n",
            "Epoch 18/50\n",
            "4/4 [==============================] - 0s 39ms/step - loss: 0.0470 - acc: 0.9889 - val_loss: 4.9186 - val_acc: 0.8167\n",
            "Epoch 19/50\n",
            "4/4 [==============================] - 0s 39ms/step - loss: 0.0000e+00 - acc: 1.0000 - val_loss: 4.9172 - val_acc: 0.8667\n",
            "Epoch 20/50\n",
            "4/4 [==============================] - 0s 40ms/step - loss: 0.0000e+00 - acc: 1.0000 - val_loss: 5.4768 - val_acc: 0.8833\n",
            "Epoch 21/50\n",
            "4/4 [==============================] - 0s 39ms/step - loss: 0.0000e+00 - acc: 1.0000 - val_loss: 5.8914 - val_acc: 0.8833\n",
            "Epoch 22/50\n",
            "4/4 [==============================] - 0s 39ms/step - loss: 0.0000e+00 - acc: 1.0000 - val_loss: 6.3076 - val_acc: 0.8500\n",
            "Epoch 23/50\n",
            "4/4 [==============================] - 0s 39ms/step - loss: 5.2982e-09 - acc: 1.0000 - val_loss: 6.6343 - val_acc: 0.8500\n",
            "Epoch 24/50\n",
            "4/4 [==============================] - 0s 40ms/step - loss: 2.2782e-07 - acc: 1.0000 - val_loss: 6.8709 - val_acc: 0.8500\n",
            "Epoch 25/50\n",
            "4/4 [==============================] - 0s 39ms/step - loss: 4.6996e-06 - acc: 1.0000 - val_loss: 7.0317 - val_acc: 0.8500\n",
            "Epoch 26/50\n",
            "4/4 [==============================] - 0s 42ms/step - loss: 2.0692e-05 - acc: 1.0000 - val_loss: 7.1365 - val_acc: 0.8500\n",
            "Epoch 27/50\n",
            "4/4 [==============================] - 0s 39ms/step - loss: 3.2468e-05 - acc: 1.0000 - val_loss: 7.1925 - val_acc: 0.8500\n",
            "Epoch 28/50\n",
            "4/4 [==============================] - 0s 41ms/step - loss: 4.5636e-05 - acc: 1.0000 - val_loss: 7.2129 - val_acc: 0.8500\n",
            "Epoch 29/50\n",
            "4/4 [==============================] - 0s 39ms/step - loss: 3.5511e-05 - acc: 1.0000 - val_loss: 7.2157 - val_acc: 0.8500\n",
            "Epoch 30/50\n",
            "4/4 [==============================] - 0s 41ms/step - loss: 2.2373e-05 - acc: 1.0000 - val_loss: 7.2064 - val_acc: 0.8500\n",
            "Epoch 31/50\n",
            "4/4 [==============================] - 0s 39ms/step - loss: 1.1306e-05 - acc: 1.0000 - val_loss: 7.1957 - val_acc: 0.8500\n",
            "Epoch 32/50\n",
            "4/4 [==============================] - 0s 39ms/step - loss: 8.9907e-06 - acc: 1.0000 - val_loss: 7.1794 - val_acc: 0.8500\n",
            "Epoch 33/50\n",
            "4/4 [==============================] - 0s 41ms/step - loss: 6.4673e-06 - acc: 1.0000 - val_loss: 7.1650 - val_acc: 0.8500\n",
            "Epoch 34/50\n",
            "4/4 [==============================] - 0s 38ms/step - loss: 4.3084e-06 - acc: 1.0000 - val_loss: 7.1538 - val_acc: 0.8500\n",
            "Epoch 35/50\n",
            "4/4 [==============================] - 0s 40ms/step - loss: 3.3817e-06 - acc: 1.0000 - val_loss: 7.1449 - val_acc: 0.8500\n",
            "Epoch 36/50\n",
            "4/4 [==============================] - 0s 43ms/step - loss: 2.8255e-06 - acc: 1.0000 - val_loss: 7.1369 - val_acc: 0.8500\n",
            "Epoch 37/50\n",
            "4/4 [==============================] - 0s 40ms/step - loss: 2.5150e-06 - acc: 1.0000 - val_loss: 7.1303 - val_acc: 0.8500\n",
            "Epoch 38/50\n",
            "4/4 [==============================] - 0s 42ms/step - loss: 2.3058e-06 - acc: 1.0000 - val_loss: 7.1245 - val_acc: 0.8500\n",
            "Epoch 39/50\n",
            "4/4 [==============================] - 0s 42ms/step - loss: 2.0065e-06 - acc: 1.0000 - val_loss: 7.1201 - val_acc: 0.8500\n",
            "Epoch 40/50\n",
            "4/4 [==============================] - 0s 40ms/step - loss: 1.8628e-06 - acc: 1.0000 - val_loss: 7.1159 - val_acc: 0.8500\n",
            "Epoch 41/50\n",
            "4/4 [==============================] - 0s 39ms/step - loss: 1.7787e-06 - acc: 1.0000 - val_loss: 7.1116 - val_acc: 0.8500\n",
            "Epoch 42/50\n",
            "4/4 [==============================] - 0s 40ms/step - loss: 1.6840e-06 - acc: 1.0000 - val_loss: 7.1078 - val_acc: 0.8500\n",
            "Epoch 43/50\n",
            "4/4 [==============================] - 0s 55ms/step - loss: 1.5695e-06 - acc: 1.0000 - val_loss: 7.1044 - val_acc: 0.8500\n",
            "Epoch 44/50\n",
            "4/4 [==============================] - 0s 40ms/step - loss: 1.4960e-06 - acc: 1.0000 - val_loss: 7.1011 - val_acc: 0.8500\n",
            "Epoch 45/50\n",
            "4/4 [==============================] - 0s 42ms/step - loss: 1.4357e-06 - acc: 1.0000 - val_loss: 7.0981 - val_acc: 0.8500\n",
            "Epoch 46/50\n",
            "4/4 [==============================] - 0s 40ms/step - loss: 1.3768e-06 - acc: 1.0000 - val_loss: 7.0952 - val_acc: 0.8500\n",
            "Epoch 47/50\n",
            "4/4 [==============================] - 0s 41ms/step - loss: 1.3099e-06 - acc: 1.0000 - val_loss: 7.0926 - val_acc: 0.8500\n",
            "Epoch 48/50\n",
            "4/4 [==============================] - 0s 39ms/step - loss: 1.2635e-06 - acc: 1.0000 - val_loss: 7.0902 - val_acc: 0.8500\n",
            "Epoch 49/50\n",
            "4/4 [==============================] - 0s 40ms/step - loss: 1.2185e-06 - acc: 1.0000 - val_loss: 7.0880 - val_acc: 0.8500\n",
            "Epoch 50/50\n",
            "4/4 [==============================] - 0s 39ms/step - loss: 1.1847e-06 - acc: 1.0000 - val_loss: 7.0854 - val_acc: 0.8500\n"
          ]
        }
      ]
    },
    {
      "cell_type": "code",
      "source": [
        "plt.plot(history2.history['acc'])\n",
        "plt.plot(history2.history['val_acc'])\n",
        "plt.title('model accuracy')\n",
        "plt.ylabel('accuracy')\n",
        "plt.xlabel('epoch')\n",
        "plt.legend(['train', 'val'], loc='upper left')\n",
        "plt.show()"
      ],
      "metadata": {
        "colab": {
          "base_uri": "https://localhost:8080/",
          "height": 295
        },
        "outputId": "8489ad4a-776c-4f4d-efd3-67e8bc6033a4",
        "id": "ae4vfD0aAEEm"
      },
      "execution_count": 53,
      "outputs": [
        {
          "output_type": "display_data",
          "data": {
            "text/plain": [
              "<Figure size 432x288 with 1 Axes>"
            ],
            "image/png": "[encoded data removed]"
          },
          "metadata": {
            "needs_background": "light"
          }
        }
      ]
    },
    {
      "cell_type": "code",
      "source": [
        "plt.plot(history2.history['loss'])\n",
        "plt.plot(history2.history['val_loss'])\n",
        "plt.title('model loss')\n",
        "plt.ylabel('loss')\n",
        "plt.xlabel('epoch')\n",
        "plt.legend(['train', 'val'], loc='upper left')\n",
        "plt.show()"
      ],
      "metadata": {
        "colab": {
          "base_uri": "https://localhost:8080/",
          "height": 295
        },
        "outputId": "78989b4f-b0b1-42dd-a9ca-9bb1075aab09",
        "id": "aiIRXzdTAEEm"
      },
      "execution_count": 54,
      "outputs": [
        {
          "output_type": "display_data",
          "data": {
            "text/plain": [
              "<Figure size 432x288 with 1 Axes>"
            ],
            "image/png": "[encoded data removed]"
          },
          "metadata": {
            "needs_background": "light"
          }
        }
      ]
    },
    {
      "cell_type": "code",
      "source": [
        "evaluate2 = model2.evaluate(x_val,y_val)\n",
        "print(evaluate2)"
      ],
      "metadata": {
        "colab": {
          "base_uri": "https://localhost:8080/"
        },
        "outputId": "a2b29d99-b286-426b-de00-2b75db984010",
        "id": "A5Q3cV2bAEEm"
      },
      "execution_count": 55,
      "outputs": [
        {
          "output_type": "stream",
          "name": "stdout",
          "text": [
            "2/2 [==============================] - 0s 15ms/step - loss: 7.0854 - acc: 0.8500\n",
            "[7.0854291915893555, 0.8500000238418579]\n"
          ]
        }
      ]
    },
    {
      "cell_type": "code",
      "source": [
        "evaluate2 = model2.evaluate(test_images, test_labels_dum)\n",
        "print(evaluate2)"
      ],
      "metadata": {
        "colab": {
          "base_uri": "https://localhost:8080/"
        },
        "outputId": "5f2d9114-aa69-45e1-ae8f-45485aae2bd4",
        "id": "twVxtpAaAEEn"
      },
      "execution_count": 56,
      "outputs": [
        {
          "output_type": "stream",
          "name": "stdout",
          "text": [
            "2/2 [==============================] - 0s 13ms/step - loss: 11.0416 - acc: 0.7833\n",
            "[11.041586875915527, 0.7833333611488342]\n"
          ]
        }
      ]
    },
    {
      "cell_type": "code",
      "source": [
        "index = random.randint(1,len(test_images))\n",
        "\n",
        "checkImage = test_images[index-1:index]\n",
        "checklabel = test_labels[index-1:index]\n",
        "\n",
        "predict2 = model2.predict(np.array(checkImage))\n",
        "print(predict2)\n",
        "\n",
        "output = { 0:'apple',1:'banana',2:'mixed',3:'orange'}\n",
        "\n",
        "print(\"Actual :- \",checklabel)\n",
        "print(\"Predicted :- \",output[np.argmax(predict2)])\n"
      ],
      "metadata": {
        "colab": {
          "base_uri": "https://localhost:8080/"
        },
        "outputId": "03f166ba-0160-4d52-92e3-04c8868223bd",
        "id": "pmK7PdgmAEEn"
      },
      "execution_count": 57,
      "outputs": [
        {
          "output_type": "stream",
          "name": "stdout",
          "text": [
            "1/1 [==============================] - 0s 52ms/step\n",
            "[[1. 0. 0. 0.]]\n",
            "Actual :-  ['banana']\n",
            "Predicted :-  apple\n"
          ]
        }
      ]
    },
    {
      "cell_type": "markdown",
      "source": [
        "## Tercer Modelo: Red Convolutiva II\n",
        "\n",
        "*   4 Capas Convolutivas\n",
        "*   2 Capas Pooling\n",
        "*   3 Capas Densas"
      ],
      "metadata": {
        "id": "7yVuPVU661rW"
      }
    },
    {
      "cell_type": "code",
      "source": [
        "model3= Sequential()\n",
        "model3.add(Conv2D(kernel_size=(3,3), filters=32, activation='tanh', input_shape=(200,200,3,)))\n",
        "model3.add(Conv2D(filters=30,kernel_size = (3,3),activation='tanh'))\n",
        "model3.add(MaxPool2D(2,2))\n",
        "model3.add(Conv2D(filters=30,kernel_size = (3,3),activation='tanh'))\n",
        "model3.add(MaxPool2D(2,2))\n",
        "model3.add(Conv2D(filters=30,kernel_size = (3,3),activation='tanh'))\n",
        "\n",
        "model3.add(Flatten())\n",
        "\n",
        "model3.add(Dense(20,activation='relu'))\n",
        "model3.add(Dense(15,activation='relu'))\n",
        "model3.add(Dense(4,activation = 'softmax'))\n",
        "    \n",
        "model3.compile(\n",
        "              loss='categorical_crossentropy', \n",
        "              metrics=['acc'],\n",
        "              optimizer='adam'\n",
        "             )\n",
        "\n",
        "model3.summary()"
      ],
      "metadata": {
        "colab": {
          "base_uri": "https://localhost:8080/"
        },
        "id": "uSOVcJ7qp0aG",
        "outputId": "283811dc-955f-455d-b50d-54086c9bbba1"
      },
      "execution_count": 20,
      "outputs": [
        {
          "output_type": "stream",
          "name": "stdout",
          "text": [
            "Model: \"sequential_2\"\n",
            "_________________________________________________________________\n",
            " Layer (type)                Output Shape              Param #   \n",
            "=================================================================\n",
            " conv2d_1 (Conv2D)           (None, 198, 198, 32)      896       \n",
            "                                                                 \n",
            " conv2d_2 (Conv2D)           (None, 196, 196, 30)      8670      \n",
            "                                                                 \n",
            " max_pooling2d_1 (MaxPooling  (None, 98, 98, 30)       0         \n",
            " 2D)                                                             \n",
            "                                                                 \n",
            " conv2d_3 (Conv2D)           (None, 96, 96, 30)        8130      \n",
            "                                                                 \n",
            " max_pooling2d_2 (MaxPooling  (None, 48, 48, 30)       0         \n",
            " 2D)                                                             \n",
            "                                                                 \n",
            " conv2d_4 (Conv2D)           (None, 46, 46, 30)        8130      \n",
            "                                                                 \n",
            " flatten_2 (Flatten)         (None, 63480)             0         \n",
            "                                                                 \n",
            " dense_3 (Dense)             (None, 20)                1269620   \n",
            "                                                                 \n",
            " dense_4 (Dense)             (None, 15)                315       \n",
            "                                                                 \n",
            " dense_5 (Dense)             (None, 4)                 64        \n",
            "                                                                 \n",
            "=================================================================\n",
            "Total params: 1,295,825\n",
            "Trainable params: 1,295,825\n",
            "Non-trainable params: 0\n",
            "_________________________________________________________________\n"
          ]
        }
      ]
    },
    {
      "cell_type": "code",
      "source": [
        "history3 = model3.fit(x_train,y_train,epochs=50,batch_size=50,validation_data=(x_val,y_val))"
      ],
      "metadata": {
        "colab": {
          "base_uri": "https://localhost:8080/"
        },
        "id": "ARMy7b_rqjP8",
        "outputId": "d55fd730-6768-4e33-8f64-be0ffb495492"
      },
      "execution_count": 21,
      "outputs": [
        {
          "output_type": "stream",
          "name": "stdout",
          "text": [
            "Epoch 1/50\n",
            "4/4 [==============================] - 3s 465ms/step - loss: 4.5526 - acc: 0.2111 - val_loss: 3.1064 - val_acc: 0.5333\n",
            "Epoch 2/50\n",
            "4/4 [==============================] - 0s 97ms/step - loss: 2.5669 - acc: 0.3500 - val_loss: 1.0862 - val_acc: 0.7333\n",
            "Epoch 3/50\n",
            "4/4 [==============================] - 0s 96ms/step - loss: 0.9289 - acc: 0.6389 - val_loss: 0.7642 - val_acc: 0.7667\n",
            "Epoch 4/50\n",
            "4/4 [==============================] - 0s 96ms/step - loss: 0.5948 - acc: 0.8167 - val_loss: 0.8532 - val_acc: 0.7167\n",
            "Epoch 5/50\n",
            "4/4 [==============================] - 0s 106ms/step - loss: 0.5820 - acc: 0.7778 - val_loss: 0.6148 - val_acc: 0.7667\n",
            "Epoch 6/50\n",
            "4/4 [==============================] - 0s 98ms/step - loss: 0.4793 - acc: 0.8111 - val_loss: 0.5162 - val_acc: 0.8833\n",
            "Epoch 7/50\n",
            "4/4 [==============================] - 0s 104ms/step - loss: 0.3736 - acc: 0.8667 - val_loss: 0.4214 - val_acc: 0.8833\n",
            "Epoch 8/50\n",
            "4/4 [==============================] - 0s 103ms/step - loss: 0.3475 - acc: 0.8944 - val_loss: 0.7738 - val_acc: 0.7667\n",
            "Epoch 9/50\n",
            "4/4 [==============================] - 0s 114ms/step - loss: 0.2022 - acc: 0.9500 - val_loss: 0.5022 - val_acc: 0.8500\n",
            "Epoch 10/50\n",
            "4/4 [==============================] - 0s 104ms/step - loss: 0.1559 - acc: 0.9556 - val_loss: 0.4384 - val_acc: 0.8333\n",
            "Epoch 11/50\n",
            "4/4 [==============================] - 0s 101ms/step - loss: 0.1232 - acc: 0.9722 - val_loss: 0.3779 - val_acc: 0.8333\n",
            "Epoch 12/50\n",
            "4/4 [==============================] - 0s 103ms/step - loss: 0.0910 - acc: 0.9778 - val_loss: 0.3601 - val_acc: 0.9000\n",
            "Epoch 13/50\n",
            "4/4 [==============================] - 0s 102ms/step - loss: 0.0830 - acc: 0.9889 - val_loss: 0.3983 - val_acc: 0.8500\n",
            "Epoch 14/50\n",
            "4/4 [==============================] - 0s 109ms/step - loss: 0.0691 - acc: 0.9944 - val_loss: 0.4014 - val_acc: 0.8667\n",
            "Epoch 15/50\n",
            "4/4 [==============================] - 0s 103ms/step - loss: 0.0471 - acc: 0.9944 - val_loss: 0.3226 - val_acc: 0.9000\n",
            "Epoch 16/50\n",
            "4/4 [==============================] - 0s 99ms/step - loss: 0.0393 - acc: 1.0000 - val_loss: 0.3266 - val_acc: 0.9167\n",
            "Epoch 17/50\n",
            "4/4 [==============================] - 0s 99ms/step - loss: 0.0255 - acc: 1.0000 - val_loss: 0.3276 - val_acc: 0.9167\n",
            "Epoch 18/50\n",
            "4/4 [==============================] - 0s 99ms/step - loss: 0.0213 - acc: 1.0000 - val_loss: 0.3039 - val_acc: 0.9333\n",
            "Epoch 19/50\n",
            "4/4 [==============================] - 0s 100ms/step - loss: 0.0169 - acc: 1.0000 - val_loss: 0.3191 - val_acc: 0.9167\n",
            "Epoch 20/50\n",
            "4/4 [==============================] - 0s 100ms/step - loss: 0.0134 - acc: 1.0000 - val_loss: 0.3590 - val_acc: 0.9000\n",
            "Epoch 21/50\n",
            "4/4 [==============================] - 0s 99ms/step - loss: 0.0124 - acc: 1.0000 - val_loss: 0.3342 - val_acc: 0.9167\n",
            "Epoch 22/50\n",
            "4/4 [==============================] - 0s 98ms/step - loss: 0.0101 - acc: 1.0000 - val_loss: 0.3315 - val_acc: 0.9167\n",
            "Epoch 23/50\n",
            "4/4 [==============================] - 0s 101ms/step - loss: 0.0094 - acc: 1.0000 - val_loss: 0.3421 - val_acc: 0.9167\n",
            "Epoch 24/50\n",
            "4/4 [==============================] - 0s 107ms/step - loss: 0.0086 - acc: 1.0000 - val_loss: 0.3467 - val_acc: 0.9167\n",
            "Epoch 25/50\n",
            "4/4 [==============================] - 0s 99ms/step - loss: 0.0075 - acc: 1.0000 - val_loss: 0.3333 - val_acc: 0.9167\n",
            "Epoch 26/50\n",
            "4/4 [==============================] - 0s 99ms/step - loss: 0.0069 - acc: 1.0000 - val_loss: 0.3272 - val_acc: 0.9167\n",
            "Epoch 27/50\n",
            "4/4 [==============================] - 0s 98ms/step - loss: 0.0064 - acc: 1.0000 - val_loss: 0.3306 - val_acc: 0.9167\n",
            "Epoch 28/50\n",
            "4/4 [==============================] - 0s 99ms/step - loss: 0.0060 - acc: 1.0000 - val_loss: 0.3380 - val_acc: 0.9167\n",
            "Epoch 29/50\n",
            "4/4 [==============================] - 0s 102ms/step - loss: 0.0056 - acc: 1.0000 - val_loss: 0.3448 - val_acc: 0.9167\n",
            "Epoch 30/50\n",
            "4/4 [==============================] - 0s 107ms/step - loss: 0.0053 - acc: 1.0000 - val_loss: 0.3471 - val_acc: 0.9167\n",
            "Epoch 31/50\n",
            "4/4 [==============================] - 0s 101ms/step - loss: 0.0050 - acc: 1.0000 - val_loss: 0.3450 - val_acc: 0.9167\n",
            "Epoch 32/50\n",
            "4/4 [==============================] - 0s 101ms/step - loss: 0.0048 - acc: 1.0000 - val_loss: 0.3444 - val_acc: 0.9167\n",
            "Epoch 33/50\n",
            "4/4 [==============================] - 0s 99ms/step - loss: 0.0045 - acc: 1.0000 - val_loss: 0.3515 - val_acc: 0.9167\n",
            "Epoch 34/50\n",
            "4/4 [==============================] - 0s 100ms/step - loss: 0.0043 - acc: 1.0000 - val_loss: 0.3474 - val_acc: 0.9167\n",
            "Epoch 35/50\n",
            "4/4 [==============================] - 0s 100ms/step - loss: 0.0041 - acc: 1.0000 - val_loss: 0.3426 - val_acc: 0.9167\n",
            "Epoch 36/50\n",
            "4/4 [==============================] - 0s 106ms/step - loss: 0.0040 - acc: 1.0000 - val_loss: 0.3403 - val_acc: 0.9167\n",
            "Epoch 37/50\n",
            "4/4 [==============================] - 0s 103ms/step - loss: 0.0038 - acc: 1.0000 - val_loss: 0.3386 - val_acc: 0.9167\n",
            "Epoch 38/50\n",
            "4/4 [==============================] - 0s 101ms/step - loss: 0.0037 - acc: 1.0000 - val_loss: 0.3422 - val_acc: 0.9167\n",
            "Epoch 39/50\n",
            "4/4 [==============================] - 0s 100ms/step - loss: 0.0035 - acc: 1.0000 - val_loss: 0.3414 - val_acc: 0.9167\n",
            "Epoch 40/50\n",
            "4/4 [==============================] - 0s 101ms/step - loss: 0.0034 - acc: 1.0000 - val_loss: 0.3440 - val_acc: 0.9167\n",
            "Epoch 41/50\n",
            "4/4 [==============================] - 0s 103ms/step - loss: 0.0033 - acc: 1.0000 - val_loss: 0.3435 - val_acc: 0.9167\n",
            "Epoch 42/50\n",
            "4/4 [==============================] - 0s 108ms/step - loss: 0.0032 - acc: 1.0000 - val_loss: 0.3446 - val_acc: 0.9167\n",
            "Epoch 43/50\n",
            "4/4 [==============================] - 0s 109ms/step - loss: 0.0031 - acc: 1.0000 - val_loss: 0.3513 - val_acc: 0.9167\n",
            "Epoch 44/50\n",
            "4/4 [==============================] - 0s 102ms/step - loss: 0.0029 - acc: 1.0000 - val_loss: 0.3511 - val_acc: 0.9167\n",
            "Epoch 45/50\n",
            "4/4 [==============================] - 0s 108ms/step - loss: 0.0028 - acc: 1.0000 - val_loss: 0.3518 - val_acc: 0.9167\n",
            "Epoch 46/50\n",
            "4/4 [==============================] - 0s 101ms/step - loss: 0.0028 - acc: 1.0000 - val_loss: 0.3514 - val_acc: 0.9167\n",
            "Epoch 47/50\n",
            "4/4 [==============================] - 0s 102ms/step - loss: 0.0027 - acc: 1.0000 - val_loss: 0.3541 - val_acc: 0.9167\n",
            "Epoch 48/50\n",
            "4/4 [==============================] - 0s 110ms/step - loss: 0.0026 - acc: 1.0000 - val_loss: 0.3540 - val_acc: 0.9167\n",
            "Epoch 49/50\n",
            "4/4 [==============================] - 0s 100ms/step - loss: 0.0025 - acc: 1.0000 - val_loss: 0.3539 - val_acc: 0.9167\n",
            "Epoch 50/50\n",
            "4/4 [==============================] - 0s 100ms/step - loss: 0.0024 - acc: 1.0000 - val_loss: 0.3531 - val_acc: 0.9167\n"
          ]
        }
      ]
    },
    {
      "cell_type": "code",
      "source": [
        "plt.plot(history3.history['acc'])\n",
        "plt.plot(history3.history['val_acc'])\n",
        "plt.title('model accuracy')\n",
        "plt.ylabel('accuracy')\n",
        "plt.xlabel('epoch')\n",
        "plt.legend(['train', 'val'], loc='upper left')\n",
        "plt.show()"
      ],
      "metadata": {
        "colab": {
          "base_uri": "https://localhost:8080/",
          "height": 295
        },
        "id": "Q2wPd9ZR0E-2",
        "outputId": "5133520a-3fc9-48ed-f3b6-7c39e485927a"
      },
      "execution_count": 22,
      "outputs": [
        {
          "output_type": "display_data",
          "data": {
            "text/plain": [
              "<Figure size 432x288 with 1 Axes>"
            ],
            "image/png": "[encoded data removed]"
          },
          "metadata": {
            "needs_background": "light"
          }
        }
      ]
    },
    {
      "cell_type": "code",
      "source": [
        "plt.plot(history3.history['loss'])\n",
        "plt.plot(history3.history['val_loss'])\n",
        "plt.title('model loss')\n",
        "plt.ylabel('loss')\n",
        "plt.xlabel('epoch')\n",
        "plt.legend(['train', 'val'], loc='upper left')\n",
        "plt.show()"
      ],
      "metadata": {
        "colab": {
          "base_uri": "https://localhost:8080/",
          "height": 295
        },
        "id": "vvVQfhhl0Htm",
        "outputId": "fa97dc86-3125-40e6-d850-472bd2b7f624"
      },
      "execution_count": 23,
      "outputs": [
        {
          "output_type": "display_data",
          "data": {
            "text/plain": [
              "<Figure size 432x288 with 1 Axes>"
            ],
            "image/png": "[encoded data removed]"
          },
          "metadata": {
            "needs_background": "light"
          }
        }
      ]
    },
    {
      "cell_type": "code",
      "source": [
        "evaluate3 = model3.evaluate(x_val,y_val)\n",
        "print(evaluate3)"
      ],
      "metadata": {
        "colab": {
          "base_uri": "https://localhost:8080/"
        },
        "id": "swUCc05D0SPY",
        "outputId": "d6003d09-3361-458f-f1b7-35918d4a13c8"
      },
      "execution_count": 24,
      "outputs": [
        {
          "output_type": "stream",
          "name": "stdout",
          "text": [
            "2/2 [==============================] - 1s 253ms/step - loss: 0.3531 - acc: 0.9167\n",
            "[0.3530861437320709, 0.9166666865348816]\n"
          ]
        }
      ]
    },
    {
      "cell_type": "code",
      "source": [
        "evaluate3 = model3.evaluate(test_images, test_labels_dum)\n",
        "print(evaluate3)"
      ],
      "metadata": {
        "colab": {
          "base_uri": "https://localhost:8080/"
        },
        "id": "L5G9YKJo3jrw",
        "outputId": "a4424d97-4c3a-49a9-becd-ae7d29097105"
      },
      "execution_count": 25,
      "outputs": [
        {
          "output_type": "stream",
          "name": "stdout",
          "text": [
            "2/2 [==============================] - 0s 21ms/step - loss: 0.7379 - acc: 0.8167\n",
            "[0.7378793358802795, 0.8166666626930237]\n"
          ]
        }
      ]
    },
    {
      "cell_type": "code",
      "source": [
        "index = random.randint(1,len(test_images))\n",
        "\n",
        "checkImage = test_images[index-1:index]\n",
        "checklabel = test_labels[index-1:index]\n",
        "\n",
        "predict3 = model3.predict(np.array(checkImage))\n",
        "print(predict3)\n",
        "\n",
        "output = { 0:'apple',1:'banana',2:'mixed',3:'orange'}\n",
        "\n",
        "print(\"Actual :- \",checklabel)\n",
        "print(\"Predicted :- \",output[np.argmax(predict3)])\n"
      ],
      "metadata": {
        "colab": {
          "base_uri": "https://localhost:8080/"
        },
        "id": "PTfwoC3u0eNu",
        "outputId": "d0c4471b-1296-4d63-ef47-ce67b1691f9d"
      },
      "execution_count": 26,
      "outputs": [
        {
          "output_type": "stream",
          "name": "stdout",
          "text": [
            "1/1 [==============================] - 0s 157ms/step\n",
            "[[1.7288228e-06 9.5130755e-03 2.1369992e-02 9.6911520e-01]]\n",
            "Actual :-  ['orange']\n",
            "Predicted :-  orange\n"
          ]
        }
      ]
    },
    {
      "cell_type": "markdown",
      "source": [
        "## Cuarto Modelo: Red Convolutiva II c/ Batch Normalization\n",
        "\n",
        "*   4 Capas Convolutivas\n",
        "*   2 Capas Pooling\n",
        "*   3 Capas Densas\n",
        "*   3 Capas BatchNormalization"
      ],
      "metadata": {
        "id": "Q-rZ7_g48Amt"
      }
    },
    {
      "cell_type": "code",
      "source": [
        "model4= Sequential()\n",
        "model4.add(Conv2D(kernel_size=(3,3), filters=32, activation='tanh', input_shape=(200,200,3,)))\n",
        "model4.add(Conv2D(filters=30,kernel_size = (3,3),activation='tanh'))\n",
        "model4.add(BatchNormalization())\n",
        "model4.add(MaxPool2D(2,2))\n",
        "model4.add(Conv2D(filters=30,kernel_size = (3,3),activation='tanh'))\n",
        "model4.add(BatchNormalization())\n",
        "model4.add(MaxPool2D(2,2))\n",
        "model4.add(Conv2D(filters=30,kernel_size = (3,3),activation='tanh'))\n",
        "model4.add(BatchNormalization())\n",
        "\n",
        "model4.add(Flatten())\n",
        "\n",
        "model4.add(Dense(20,activation='relu'))\n",
        "model4.add(Dense(15,activation='relu'))\n",
        "model4.add(Dense(4,activation = 'softmax'))\n",
        "    \n",
        "model4.compile(\n",
        "              loss='categorical_crossentropy', \n",
        "              metrics=['acc'],\n",
        "              optimizer='adam'\n",
        "             )\n",
        "\n",
        "model4.summary()"
      ],
      "metadata": {
        "colab": {
          "base_uri": "https://localhost:8080/"
        },
        "outputId": "b33f2dce-d2a8-4fa8-bb54-0d8691eac65a",
        "id": "35fOkBAkAr3z"
      },
      "execution_count": 41,
      "outputs": [
        {
          "output_type": "stream",
          "name": "stdout",
          "text": [
            "Model: \"sequential_5\"\n",
            "_________________________________________________________________\n",
            " Layer (type)                Output Shape              Param #   \n",
            "=================================================================\n",
            " conv2d_13 (Conv2D)          (None, 198, 198, 32)      896       \n",
            "                                                                 \n",
            " conv2d_14 (Conv2D)          (None, 196, 196, 30)      8670      \n",
            "                                                                 \n",
            " batch_normalization_6 (Batc  (None, 196, 196, 30)     120       \n",
            " hNormalization)                                                 \n",
            "                                                                 \n",
            " max_pooling2d_7 (MaxPooling  (None, 98, 98, 30)       0         \n",
            " 2D)                                                             \n",
            "                                                                 \n",
            " conv2d_15 (Conv2D)          (None, 96, 96, 30)        8130      \n",
            "                                                                 \n",
            " batch_normalization_7 (Batc  (None, 96, 96, 30)       120       \n",
            " hNormalization)                                                 \n",
            "                                                                 \n",
            " max_pooling2d_8 (MaxPooling  (None, 48, 48, 30)       0         \n",
            " 2D)                                                             \n",
            "                                                                 \n",
            " conv2d_16 (Conv2D)          (None, 46, 46, 30)        8130      \n",
            "                                                                 \n",
            " batch_normalization_8 (Batc  (None, 46, 46, 30)       120       \n",
            " hNormalization)                                                 \n",
            "                                                                 \n",
            " flatten_5 (Flatten)         (None, 63480)             0         \n",
            "                                                                 \n",
            " dense_12 (Dense)            (None, 20)                1269620   \n",
            "                                                                 \n",
            " dense_13 (Dense)            (None, 15)                315       \n",
            "                                                                 \n",
            " dense_14 (Dense)            (None, 4)                 64        \n",
            "                                                                 \n",
            "=================================================================\n",
            "Total params: 1,296,185\n",
            "Trainable params: 1,296,005\n",
            "Non-trainable params: 180\n",
            "_________________________________________________________________\n"
          ]
        }
      ]
    },
    {
      "cell_type": "code",
      "source": [
        "history4 = model4.fit(x_train,y_train,epochs=50,batch_size=50,validation_data=(x_val,y_val))"
      ],
      "metadata": {
        "colab": {
          "base_uri": "https://localhost:8080/"
        },
        "outputId": "ec6ead13-6a92-4e72-f9ef-07f2ad2bfc0c",
        "id": "ITPSG7fjAr30"
      },
      "execution_count": 42,
      "outputs": [
        {
          "output_type": "stream",
          "name": "stdout",
          "text": [
            "Epoch 1/50\n",
            "4/4 [==============================] - 2s 195ms/step - loss: 1.5469 - acc: 0.5833 - val_loss: 5.0273 - val_acc: 0.3500\n",
            "Epoch 2/50\n",
            "4/4 [==============================] - 0s 115ms/step - loss: 0.9811 - acc: 0.7889 - val_loss: 3.2047 - val_acc: 0.3333\n",
            "Epoch 3/50\n",
            "4/4 [==============================] - 0s 115ms/step - loss: 0.3017 - acc: 0.9111 - val_loss: 1.6603 - val_acc: 0.5333\n",
            "Epoch 4/50\n",
            "4/4 [==============================] - 0s 114ms/step - loss: 0.2402 - acc: 0.9500 - val_loss: 2.4845 - val_acc: 0.5333\n",
            "Epoch 5/50\n",
            "4/4 [==============================] - 0s 115ms/step - loss: 0.1042 - acc: 0.9667 - val_loss: 2.1865 - val_acc: 0.6333\n",
            "Epoch 6/50\n",
            "4/4 [==============================] - 0s 115ms/step - loss: 0.3176 - acc: 0.9556 - val_loss: 3.7940 - val_acc: 0.5500\n",
            "Epoch 7/50\n",
            "4/4 [==============================] - 0s 123ms/step - loss: 0.1572 - acc: 0.9556 - val_loss: 3.4198 - val_acc: 0.5667\n",
            "Epoch 8/50\n",
            "4/4 [==============================] - 0s 115ms/step - loss: 0.0599 - acc: 0.9889 - val_loss: 3.4689 - val_acc: 0.5667\n",
            "Epoch 9/50\n",
            "4/4 [==============================] - 0s 115ms/step - loss: 0.2719 - acc: 0.9500 - val_loss: 4.8664 - val_acc: 0.5833\n",
            "Epoch 10/50\n",
            "4/4 [==============================] - 0s 115ms/step - loss: 0.4931 - acc: 0.9889 - val_loss: 12.2978 - val_acc: 0.5167\n",
            "Epoch 11/50\n",
            "4/4 [==============================] - 0s 115ms/step - loss: 0.4618 - acc: 0.9167 - val_loss: 8.5185 - val_acc: 0.5000\n",
            "Epoch 12/50\n",
            "4/4 [==============================] - 0s 122ms/step - loss: 0.0967 - acc: 0.9611 - val_loss: 1.5772 - val_acc: 0.6500\n",
            "Epoch 13/50\n",
            "4/4 [==============================] - 0s 116ms/step - loss: 0.2003 - acc: 0.9389 - val_loss: 1.6710 - val_acc: 0.5833\n",
            "Epoch 14/50\n",
            "4/4 [==============================] - 0s 115ms/step - loss: 0.1075 - acc: 0.9778 - val_loss: 1.8649 - val_acc: 0.6000\n",
            "Epoch 15/50\n",
            "4/4 [==============================] - 0s 115ms/step - loss: 0.0687 - acc: 0.9722 - val_loss: 1.9459 - val_acc: 0.6333\n",
            "Epoch 16/50\n",
            "4/4 [==============================] - 0s 122ms/step - loss: 0.0712 - acc: 0.9778 - val_loss: 1.5010 - val_acc: 0.7167\n",
            "Epoch 17/50\n",
            "4/4 [==============================] - 0s 118ms/step - loss: 0.1679 - acc: 0.9722 - val_loss: 1.0417 - val_acc: 0.8167\n",
            "Epoch 18/50\n",
            "4/4 [==============================] - 0s 119ms/step - loss: 0.1060 - acc: 0.9833 - val_loss: 1.3778 - val_acc: 0.7333\n",
            "Epoch 19/50\n",
            "4/4 [==============================] - 0s 125ms/step - loss: 0.1558 - acc: 0.9778 - val_loss: 1.7979 - val_acc: 0.7500\n",
            "Epoch 20/50\n",
            "4/4 [==============================] - 0s 124ms/step - loss: 0.0223 - acc: 0.9889 - val_loss: 2.0246 - val_acc: 0.8000\n",
            "Epoch 21/50\n",
            "4/4 [==============================] - 0s 129ms/step - loss: 0.0666 - acc: 0.9833 - val_loss: 1.4275 - val_acc: 0.8333\n",
            "Epoch 22/50\n",
            "4/4 [==============================] - 0s 124ms/step - loss: 0.0692 - acc: 0.9833 - val_loss: 1.5721 - val_acc: 0.7667\n",
            "Epoch 23/50\n",
            "4/4 [==============================] - 0s 125ms/step - loss: 0.0057 - acc: 1.0000 - val_loss: 1.7484 - val_acc: 0.6833\n",
            "Epoch 24/50\n",
            "4/4 [==============================] - 0s 122ms/step - loss: 0.0133 - acc: 1.0000 - val_loss: 1.8034 - val_acc: 0.6333\n",
            "Epoch 25/50\n",
            "4/4 [==============================] - 0s 125ms/step - loss: 0.0175 - acc: 0.9889 - val_loss: 1.5455 - val_acc: 0.6667\n",
            "Epoch 26/50\n",
            "4/4 [==============================] - 0s 122ms/step - loss: 0.0250 - acc: 0.9889 - val_loss: 1.4785 - val_acc: 0.7167\n",
            "Epoch 27/50\n",
            "4/4 [==============================] - 0s 116ms/step - loss: 0.0028 - acc: 1.0000 - val_loss: 1.7903 - val_acc: 0.7000\n",
            "Epoch 28/50\n",
            "4/4 [==============================] - 0s 123ms/step - loss: 0.0421 - acc: 0.9833 - val_loss: 2.6775 - val_acc: 0.6167\n",
            "Epoch 29/50\n",
            "4/4 [==============================] - 0s 121ms/step - loss: 0.0052 - acc: 1.0000 - val_loss: 4.1519 - val_acc: 0.5667\n",
            "Epoch 30/50\n",
            "4/4 [==============================] - 0s 122ms/step - loss: 0.0030 - acc: 1.0000 - val_loss: 5.2516 - val_acc: 0.5333\n",
            "Epoch 31/50\n",
            "4/4 [==============================] - 0s 116ms/step - loss: 0.0043 - acc: 1.0000 - val_loss: 5.7800 - val_acc: 0.5333\n",
            "Epoch 32/50\n",
            "4/4 [==============================] - 0s 121ms/step - loss: 0.0044 - acc: 1.0000 - val_loss: 5.8785 - val_acc: 0.5833\n",
            "Epoch 33/50\n",
            "4/4 [==============================] - 0s 122ms/step - loss: 0.0018 - acc: 1.0000 - val_loss: 5.7182 - val_acc: 0.5833\n",
            "Epoch 34/50\n",
            "4/4 [==============================] - 0s 117ms/step - loss: 5.3324e-04 - acc: 1.0000 - val_loss: 5.4755 - val_acc: 0.6000\n",
            "Epoch 35/50\n",
            "4/4 [==============================] - 0s 118ms/step - loss: 3.2383e-04 - acc: 1.0000 - val_loss: 5.1563 - val_acc: 0.6167\n",
            "Epoch 36/50\n",
            "4/4 [==============================] - 0s 123ms/step - loss: 5.3177e-04 - acc: 1.0000 - val_loss: 4.8318 - val_acc: 0.6500\n",
            "Epoch 37/50\n",
            "4/4 [==============================] - 0s 117ms/step - loss: 3.8434e-04 - acc: 1.0000 - val_loss: 4.5092 - val_acc: 0.6667\n",
            "Epoch 38/50\n",
            "4/4 [==============================] - 0s 116ms/step - loss: 3.5730e-04 - acc: 1.0000 - val_loss: 4.2153 - val_acc: 0.6667\n",
            "Epoch 39/50\n",
            "4/4 [==============================] - 0s 115ms/step - loss: 3.0819e-04 - acc: 1.0000 - val_loss: 3.9771 - val_acc: 0.6833\n",
            "Epoch 40/50\n",
            "4/4 [==============================] - 0s 119ms/step - loss: 2.9103e-04 - acc: 1.0000 - val_loss: 3.7211 - val_acc: 0.7000\n",
            "Epoch 41/50\n",
            "4/4 [==============================] - 0s 115ms/step - loss: 8.4658e-05 - acc: 1.0000 - val_loss: 3.4771 - val_acc: 0.7000\n",
            "Epoch 42/50\n",
            "4/4 [==============================] - 0s 120ms/step - loss: 7.5954e-05 - acc: 1.0000 - val_loss: 3.2556 - val_acc: 0.7500\n",
            "Epoch 43/50\n",
            "4/4 [==============================] - 0s 115ms/step - loss: 3.3262e-04 - acc: 1.0000 - val_loss: 3.0542 - val_acc: 0.7500\n",
            "Epoch 44/50\n",
            "4/4 [==============================] - 0s 116ms/step - loss: 1.6922e-04 - acc: 1.0000 - val_loss: 2.8875 - val_acc: 0.7500\n",
            "Epoch 45/50\n",
            "4/4 [==============================] - 0s 116ms/step - loss: 7.4136e-05 - acc: 1.0000 - val_loss: 2.7588 - val_acc: 0.7667\n",
            "Epoch 46/50\n",
            "4/4 [==============================] - 0s 115ms/step - loss: 7.0858e-05 - acc: 1.0000 - val_loss: 2.6477 - val_acc: 0.7667\n",
            "Epoch 47/50\n",
            "4/4 [==============================] - 0s 116ms/step - loss: 2.5130e-04 - acc: 1.0000 - val_loss: 2.5231 - val_acc: 0.7667\n",
            "Epoch 48/50\n",
            "4/4 [==============================] - 0s 116ms/step - loss: 1.1201e-04 - acc: 1.0000 - val_loss: 2.3970 - val_acc: 0.7667\n",
            "Epoch 49/50\n",
            "4/4 [==============================] - 0s 119ms/step - loss: 1.0231e-04 - acc: 1.0000 - val_loss: 2.2633 - val_acc: 0.7667\n",
            "Epoch 50/50\n",
            "4/4 [==============================] - 0s 116ms/step - loss: 4.0750e-05 - acc: 1.0000 - val_loss: 2.1477 - val_acc: 0.7833\n"
          ]
        }
      ]
    },
    {
      "cell_type": "code",
      "source": [
        "plt.plot(history4.history['acc'])\n",
        "plt.plot(history4.history['val_acc'])\n",
        "plt.title('model accuracy')\n",
        "plt.ylabel('accuracy')\n",
        "plt.xlabel('epoch')\n",
        "plt.legend(['train', 'val'], loc='upper left')\n",
        "plt.show()"
      ],
      "metadata": {
        "colab": {
          "base_uri": "https://localhost:8080/",
          "height": 295
        },
        "outputId": "6849cf24-14da-4d9d-c82f-1b5549616fff",
        "id": "DLC-XudjAr30"
      },
      "execution_count": 43,
      "outputs": [
        {
          "output_type": "display_data",
          "data": {
            "text/plain": [
              "<Figure size 432x288 with 1 Axes>"
            ],
            "image/png": "[encoded data removed]"
          },
          "metadata": {
            "needs_background": "light"
          }
        }
      ]
    },
    {
      "cell_type": "code",
      "source": [
        "plt.plot(history4.history['loss'])\n",
        "plt.plot(history4.history['val_loss'])\n",
        "plt.title('model loss')\n",
        "plt.ylabel('loss')\n",
        "plt.xlabel('epoch')\n",
        "plt.legend(['train', 'val'], loc='upper left')\n",
        "plt.show()"
      ],
      "metadata": {
        "colab": {
          "base_uri": "https://localhost:8080/",
          "height": 295
        },
        "outputId": "b16fac98-d98a-4c07-9731-02a28a2b6d04",
        "id": "wlV1PnLiAr30"
      },
      "execution_count": 44,
      "outputs": [
        {
          "output_type": "display_data",
          "data": {
            "text/plain": [
              "<Figure size 432x288 with 1 Axes>"
            ],
            "image/png": "[encoded data removed]"
          },
          "metadata": {
            "needs_background": "light"
          }
        }
      ]
    },
    {
      "cell_type": "code",
      "source": [
        "evaluate4 = model4.evaluate(x_val,y_val)\n",
        "print(evaluate4)"
      ],
      "metadata": {
        "colab": {
          "base_uri": "https://localhost:8080/"
        },
        "outputId": "35fb2178-ac01-4071-b325-3480ea76716b",
        "id": "owpPGnoPAr31"
      },
      "execution_count": 45,
      "outputs": [
        {
          "output_type": "stream",
          "name": "stdout",
          "text": [
            "2/2 [==============================] - 0s 23ms/step - loss: 2.1477 - acc: 0.7833\n",
            "[2.1476871967315674, 0.7833333611488342]\n"
          ]
        }
      ]
    },
    {
      "cell_type": "code",
      "source": [
        "evaluate4 = model4.evaluate(test_images, test_labels_dum)\n",
        "print(evaluate4)"
      ],
      "metadata": {
        "colab": {
          "base_uri": "https://localhost:8080/"
        },
        "outputId": "eed1359a-2e55-4063-b434-58d83addfff1",
        "id": "10h5LsmjAr31"
      },
      "execution_count": 46,
      "outputs": [
        {
          "output_type": "stream",
          "name": "stdout",
          "text": [
            "2/2 [==============================] - 0s 23ms/step - loss: 3.1477 - acc: 0.8333\n",
            "[3.1476738452911377, 0.8333333134651184]\n"
          ]
        }
      ]
    },
    {
      "cell_type": "code",
      "source": [
        "index = random.randint(1,len(test_images))\n",
        "\n",
        "checkImage = test_images[index-1:index]\n",
        "checklabel = test_labels[index-1:index]\n",
        "\n",
        "predict4 = model4.predict(np.array(checkImage))\n",
        "print(predict4)\n",
        "\n",
        "output = { 0:'apple',1:'banana',2:'mixed',3:'orange'}\n",
        "\n",
        "print(\"Actual :- \",checklabel)\n",
        "print(\"Predicted :- \",output[np.argmax(predict4)])\n"
      ],
      "metadata": {
        "colab": {
          "base_uri": "https://localhost:8080/"
        },
        "outputId": "0e8b04b4-ec8d-4e10-ba3e-8bdddbde9da2",
        "id": "w1me0qsHAr31"
      },
      "execution_count": 48,
      "outputs": [
        {
          "output_type": "stream",
          "name": "stdout",
          "text": [
            "1/1 [==============================] - 0s 18ms/step\n",
            "[[1.0000000e+00 7.6156827e-13 5.3953182e-15 1.6240818e-09]]\n",
            "Actual :-  ['apple']\n",
            "Predicted :-  apple\n"
          ]
        }
      ]
    },
    {
      "cell_type": "markdown",
      "source": [
        "## Quinto Modelo: Red Convolutiva II c/ B.N. & Data Augmentation\n",
        "\n",
        "*   1 Capa RandomFlip\n",
        "*   1 Capa RandomRotation\n",
        "*   1 Capa RandomZoom\n",
        "*   4 Capas Convolutivas\n",
        "*   2 Capas Pooling\n",
        "*   3 Capas Densas\n",
        "*   3 Capas BatchNormalization"
      ],
      "metadata": {
        "id": "dWDKmP1o6_WE"
      }
    },
    {
      "cell_type": "code",
      "source": [
        "model5= Sequential()\n",
        "model5.add(Conv2D(kernel_size=(3,3), filters=32, activation='tanh', input_shape=(200,200,3,)))\n",
        "model5.add(RandomFlip(\"horizontal\"))\n",
        "model5.add(RandomRotation(0.1))\n",
        "model5.add(RandomZoom(0.2))\n",
        "model5.add(Conv2D(filters=30,kernel_size = (3,3),activation='tanh'))\n",
        "model5.add(BatchNormalization())\n",
        "model5.add(MaxPool2D(2,2))\n",
        "model5.add(Conv2D(filters=30,kernel_size = (3,3),activation='tanh'))\n",
        "model5.add(BatchNormalization())\n",
        "model5.add(MaxPool2D(2,2))\n",
        "model5.add(Conv2D(filters=30,kernel_size = (3,3),activation='tanh'))\n",
        "model5.add(BatchNormalization())\n",
        "\n",
        "model5.add(Flatten())\n",
        "\n",
        "model5.add(Dense(20,activation='relu'))\n",
        "model5.add(Dense(15,activation='relu'))\n",
        "model5.add(Dense(4,activation = 'softmax'))\n",
        "    \n",
        "model5.compile(\n",
        "              loss='categorical_crossentropy', \n",
        "              metrics=['acc'],\n",
        "              optimizer='adam'\n",
        "             )\n",
        "\n",
        "model5.summary()"
      ],
      "metadata": {
        "colab": {
          "base_uri": "https://localhost:8080/"
        },
        "outputId": "7c2ad89e-1c21-480c-b527-daf872f813a5",
        "id": "0lPDdyWxsxIA"
      },
      "execution_count": 34,
      "outputs": [
        {
          "output_type": "stream",
          "name": "stdout",
          "text": [
            "Model: \"sequential_4\"\n",
            "_________________________________________________________________\n",
            " Layer (type)                Output Shape              Param #   \n",
            "=================================================================\n",
            " conv2d_9 (Conv2D)           (None, 198, 198, 32)      896       \n",
            "                                                                 \n",
            " random_flip (RandomFlip)    (None, 198, 198, 32)      0         \n",
            "                                                                 \n",
            " random_rotation (RandomRota  (None, 198, 198, 32)     0         \n",
            " tion)                                                           \n",
            "                                                                 \n",
            " random_zoom (RandomZoom)    (None, 198, 198, 32)      0         \n",
            "                                                                 \n",
            " conv2d_10 (Conv2D)          (None, 196, 196, 30)      8670      \n",
            "                                                                 \n",
            " batch_normalization_3 (Batc  (None, 196, 196, 30)     120       \n",
            " hNormalization)                                                 \n",
            "                                                                 \n",
            " max_pooling2d_5 (MaxPooling  (None, 98, 98, 30)       0         \n",
            " 2D)                                                             \n",
            "                                                                 \n",
            " conv2d_11 (Conv2D)          (None, 96, 96, 30)        8130      \n",
            "                                                                 \n",
            " batch_normalization_4 (Batc  (None, 96, 96, 30)       120       \n",
            " hNormalization)                                                 \n",
            "                                                                 \n",
            " max_pooling2d_6 (MaxPooling  (None, 48, 48, 30)       0         \n",
            " 2D)                                                             \n",
            "                                                                 \n",
            " conv2d_12 (Conv2D)          (None, 46, 46, 30)        8130      \n",
            "                                                                 \n",
            " batch_normalization_5 (Batc  (None, 46, 46, 30)       120       \n",
            " hNormalization)                                                 \n",
            "                                                                 \n",
            " flatten_4 (Flatten)         (None, 63480)             0         \n",
            "                                                                 \n",
            " dense_9 (Dense)             (None, 20)                1269620   \n",
            "                                                                 \n",
            " dense_10 (Dense)            (None, 15)                315       \n",
            "                                                                 \n",
            " dense_11 (Dense)            (None, 4)                 64        \n",
            "                                                                 \n",
            "=================================================================\n",
            "Total params: 1,296,185\n",
            "Trainable params: 1,296,005\n",
            "Non-trainable params: 180\n",
            "_________________________________________________________________\n"
          ]
        }
      ]
    },
    {
      "cell_type": "code",
      "source": [
        "history5 = model5.fit(x_train,y_train,epochs=50,batch_size=50,validation_data=(x_val,y_val))"
      ],
      "metadata": {
        "colab": {
          "base_uri": "https://localhost:8080/"
        },
        "outputId": "9dfc1301-f5bf-49ec-a605-575136fe8cf5",
        "id": "9sJwyosTsxIB"
      },
      "execution_count": 35,
      "outputs": [
        {
          "output_type": "stream",
          "name": "stdout",
          "text": [
            "Epoch 1/50\n",
            "4/4 [==============================] - 5s 256ms/step - loss: 3.6833 - acc: 0.3056 - val_loss: 6.6393 - val_acc: 0.2667\n",
            "Epoch 2/50\n",
            "4/4 [==============================] - 1s 245ms/step - loss: 1.7626 - acc: 0.6167 - val_loss: 4.1428 - val_acc: 0.2667\n",
            "Epoch 3/50\n",
            "4/4 [==============================] - 1s 226ms/step - loss: 1.7041 - acc: 0.6278 - val_loss: 3.0897 - val_acc: 0.3167\n",
            "Epoch 4/50\n",
            "4/4 [==============================] - 1s 182ms/step - loss: 1.4164 - acc: 0.7000 - val_loss: 1.8908 - val_acc: 0.4167\n",
            "Epoch 5/50\n",
            "4/4 [==============================] - 1s 186ms/step - loss: 1.1666 - acc: 0.7056 - val_loss: 1.6208 - val_acc: 0.4333\n",
            "Epoch 6/50\n",
            "4/4 [==============================] - 1s 182ms/step - loss: 1.2064 - acc: 0.7278 - val_loss: 1.6373 - val_acc: 0.4000\n",
            "Epoch 7/50\n",
            "4/4 [==============================] - 1s 188ms/step - loss: 1.0183 - acc: 0.8000 - val_loss: 1.2100 - val_acc: 0.5833\n",
            "Epoch 8/50\n",
            "4/4 [==============================] - 1s 186ms/step - loss: 1.0877 - acc: 0.7833 - val_loss: 1.1401 - val_acc: 0.6667\n",
            "Epoch 9/50\n",
            "4/4 [==============================] - 1s 185ms/step - loss: 0.9889 - acc: 0.8222 - val_loss: 1.3672 - val_acc: 0.5500\n",
            "Epoch 10/50\n",
            "4/4 [==============================] - 1s 186ms/step - loss: 0.8072 - acc: 0.8222 - val_loss: 1.2580 - val_acc: 0.5000\n",
            "Epoch 11/50\n",
            "4/4 [==============================] - 1s 186ms/step - loss: 1.2465 - acc: 0.7944 - val_loss: 1.1176 - val_acc: 0.5333\n",
            "Epoch 12/50\n",
            "4/4 [==============================] - 1s 186ms/step - loss: 0.7439 - acc: 0.8167 - val_loss: 1.0428 - val_acc: 0.5833\n",
            "Epoch 13/50\n",
            "4/4 [==============================] - 1s 198ms/step - loss: 0.8541 - acc: 0.7889 - val_loss: 1.0483 - val_acc: 0.5667\n",
            "Epoch 14/50\n",
            "4/4 [==============================] - 1s 231ms/step - loss: 0.8057 - acc: 0.7944 - val_loss: 1.3011 - val_acc: 0.5667\n",
            "Epoch 15/50\n",
            "4/4 [==============================] - 1s 223ms/step - loss: 0.8438 - acc: 0.7667 - val_loss: 1.4833 - val_acc: 0.5167\n",
            "Epoch 16/50\n",
            "4/4 [==============================] - 1s 235ms/step - loss: 0.7365 - acc: 0.7389 - val_loss: 1.3486 - val_acc: 0.5333\n",
            "Epoch 17/50\n",
            "4/4 [==============================] - 1s 214ms/step - loss: 0.8572 - acc: 0.7667 - val_loss: 1.3576 - val_acc: 0.5000\n",
            "Epoch 18/50\n",
            "4/4 [==============================] - 1s 193ms/step - loss: 0.7557 - acc: 0.7722 - val_loss: 1.5704 - val_acc: 0.4500\n",
            "Epoch 19/50\n",
            "4/4 [==============================] - 1s 182ms/step - loss: 0.6928 - acc: 0.7667 - val_loss: 1.8093 - val_acc: 0.4667\n",
            "Epoch 20/50\n",
            "4/4 [==============================] - 1s 183ms/step - loss: 0.6133 - acc: 0.8222 - val_loss: 1.9559 - val_acc: 0.5833\n",
            "Epoch 21/50\n",
            "4/4 [==============================] - 1s 185ms/step - loss: 0.8560 - acc: 0.8056 - val_loss: 3.7930 - val_acc: 0.5333\n",
            "Epoch 22/50\n",
            "4/4 [==============================] - 1s 192ms/step - loss: 0.6674 - acc: 0.8278 - val_loss: 3.6354 - val_acc: 0.4500\n",
            "Epoch 23/50\n",
            "4/4 [==============================] - 1s 188ms/step - loss: 0.6292 - acc: 0.8222 - val_loss: 3.7895 - val_acc: 0.3833\n",
            "Epoch 24/50\n",
            "4/4 [==============================] - 1s 182ms/step - loss: 0.6475 - acc: 0.8389 - val_loss: 2.8234 - val_acc: 0.5333\n",
            "Epoch 25/50\n",
            "4/4 [==============================] - 1s 183ms/step - loss: 0.6605 - acc: 0.8278 - val_loss: 2.0826 - val_acc: 0.6500\n",
            "Epoch 26/50\n",
            "4/4 [==============================] - 1s 183ms/step - loss: 0.5937 - acc: 0.8222 - val_loss: 1.7414 - val_acc: 0.7167\n",
            "Epoch 27/50\n",
            "4/4 [==============================] - 1s 181ms/step - loss: 0.5677 - acc: 0.8611 - val_loss: 2.6741 - val_acc: 0.7500\n",
            "Epoch 28/50\n",
            "4/4 [==============================] - 1s 182ms/step - loss: 0.9428 - acc: 0.8333 - val_loss: 4.2442 - val_acc: 0.6333\n",
            "Epoch 29/50\n",
            "4/4 [==============================] - 1s 181ms/step - loss: 0.7450 - acc: 0.8278 - val_loss: 2.5365 - val_acc: 0.6667\n",
            "Epoch 30/50\n",
            "4/4 [==============================] - 1s 179ms/step - loss: 0.7774 - acc: 0.8444 - val_loss: 1.8777 - val_acc: 0.7000\n",
            "Epoch 31/50\n",
            "4/4 [==============================] - 1s 187ms/step - loss: 0.8076 - acc: 0.8333 - val_loss: 1.6929 - val_acc: 0.7500\n",
            "Epoch 32/50\n",
            "4/4 [==============================] - 1s 180ms/step - loss: 0.8277 - acc: 0.8222 - val_loss: 1.4216 - val_acc: 0.8167\n",
            "Epoch 33/50\n",
            "4/4 [==============================] - 1s 184ms/step - loss: 0.5439 - acc: 0.8389 - val_loss: 3.4983 - val_acc: 0.6333\n",
            "Epoch 34/50\n",
            "4/4 [==============================] - 1s 181ms/step - loss: 0.7105 - acc: 0.8167 - val_loss: 1.2575 - val_acc: 0.8167\n",
            "Epoch 35/50\n",
            "4/4 [==============================] - 1s 181ms/step - loss: 0.7123 - acc: 0.8278 - val_loss: 4.3876 - val_acc: 0.7667\n",
            "Epoch 36/50\n",
            "4/4 [==============================] - 1s 193ms/step - loss: 0.5734 - acc: 0.8556 - val_loss: 3.9819 - val_acc: 0.7167\n",
            "Epoch 37/50\n",
            "4/4 [==============================] - 1s 183ms/step - loss: 0.9784 - acc: 0.8167 - val_loss: 2.1019 - val_acc: 0.6167\n",
            "Epoch 38/50\n",
            "4/4 [==============================] - 1s 181ms/step - loss: 0.7057 - acc: 0.7944 - val_loss: 2.1230 - val_acc: 0.6167\n",
            "Epoch 39/50\n",
            "4/4 [==============================] - 1s 185ms/step - loss: 1.0692 - acc: 0.7500 - val_loss: 1.1216 - val_acc: 0.6333\n",
            "Epoch 40/50\n",
            "4/4 [==============================] - 1s 182ms/step - loss: 0.7698 - acc: 0.7722 - val_loss: 0.7889 - val_acc: 0.7333\n",
            "Epoch 41/50\n",
            "4/4 [==============================] - 1s 180ms/step - loss: 0.7445 - acc: 0.7944 - val_loss: 2.3878 - val_acc: 0.7333\n",
            "Epoch 42/50\n",
            "4/4 [==============================] - 1s 181ms/step - loss: 0.9886 - acc: 0.8167 - val_loss: 2.6595 - val_acc: 0.7333\n",
            "Epoch 43/50\n",
            "4/4 [==============================] - 1s 183ms/step - loss: 0.8177 - acc: 0.7778 - val_loss: 2.2510 - val_acc: 0.5000\n",
            "Epoch 44/50\n",
            "4/4 [==============================] - 1s 185ms/step - loss: 0.8390 - acc: 0.7333 - val_loss: 1.1684 - val_acc: 0.5000\n",
            "Epoch 45/50\n",
            "4/4 [==============================] - 1s 183ms/step - loss: 0.7647 - acc: 0.7333 - val_loss: 1.0234 - val_acc: 0.5833\n",
            "Epoch 46/50\n",
            "4/4 [==============================] - 1s 182ms/step - loss: 0.7314 - acc: 0.7500 - val_loss: 0.9816 - val_acc: 0.6000\n",
            "Epoch 47/50\n",
            "4/4 [==============================] - 1s 184ms/step - loss: 0.7717 - acc: 0.7500 - val_loss: 1.1127 - val_acc: 0.5000\n",
            "Epoch 48/50\n",
            "4/4 [==============================] - 1s 181ms/step - loss: 0.6617 - acc: 0.7722 - val_loss: 2.0966 - val_acc: 0.4833\n",
            "Epoch 49/50\n",
            "4/4 [==============================] - 1s 185ms/step - loss: 0.6776 - acc: 0.8167 - val_loss: 2.2964 - val_acc: 0.5833\n",
            "Epoch 50/50\n",
            "4/4 [==============================] - 1s 183ms/step - loss: 0.5528 - acc: 0.8222 - val_loss: 1.0419 - val_acc: 0.6667\n"
          ]
        }
      ]
    },
    {
      "cell_type": "code",
      "source": [
        "plt.plot(history5.history['acc'])\n",
        "plt.plot(history5.history['val_acc'])\n",
        "plt.title('model accuracy')\n",
        "plt.ylabel('accuracy')\n",
        "plt.xlabel('epoch')\n",
        "plt.legend(['train', 'val'], loc='upper left')\n",
        "plt.show()"
      ],
      "metadata": {
        "colab": {
          "base_uri": "https://localhost:8080/",
          "height": 295
        },
        "outputId": "9cd9362f-a25e-403e-be4d-e68ba4cd90da",
        "id": "cqNuX9umsxIB"
      },
      "execution_count": 36,
      "outputs": [
        {
          "output_type": "display_data",
          "data": {
            "text/plain": [
              "<Figure size 432x288 with 1 Axes>"
            ],
            "image/png": "[encoded data removed]"
          },
          "metadata": {
            "needs_background": "light"
          }
        }
      ]
    },
    {
      "cell_type": "code",
      "source": [
        "plt.plot(history5.history['loss'])\n",
        "plt.plot(history5.history['val_loss'])\n",
        "plt.title('model loss')\n",
        "plt.ylabel('loss')\n",
        "plt.xlabel('epoch')\n",
        "plt.legend(['train', 'val'], loc='upper left')\n",
        "plt.show()"
      ],
      "metadata": {
        "colab": {
          "base_uri": "https://localhost:8080/",
          "height": 295
        },
        "outputId": "ffa61da1-4d6d-40ba-b85c-0f42832e7a01",
        "id": "c4FL9M40sxIB"
      },
      "execution_count": 37,
      "outputs": [
        {
          "output_type": "display_data",
          "data": {
            "text/plain": [
              "<Figure size 432x288 with 1 Axes>"
            ],
            "image/png": "[encoded data removed]"
          },
          "metadata": {
            "needs_background": "light"
          }
        }
      ]
    },
    {
      "cell_type": "code",
      "source": [
        "evaluate5 = model5.evaluate(x_val,y_val)\n",
        "print(evaluate5)"
      ],
      "metadata": {
        "colab": {
          "base_uri": "https://localhost:8080/"
        },
        "outputId": "2aed187c-cc33-4267-dcd6-b50ae497e850",
        "id": "xpgvVHnasxIB"
      },
      "execution_count": 38,
      "outputs": [
        {
          "output_type": "stream",
          "name": "stdout",
          "text": [
            "2/2 [==============================] - 0s 30ms/step - loss: 1.0419 - acc: 0.6667\n",
            "[1.0418827533721924, 0.6666666865348816]\n"
          ]
        }
      ]
    },
    {
      "cell_type": "code",
      "source": [
        "evaluate5 = model5.evaluate(test_images, test_labels_dum)\n",
        "print(evaluate5)"
      ],
      "metadata": {
        "colab": {
          "base_uri": "https://localhost:8080/"
        },
        "outputId": "c5bc2639-e50e-474e-dbed-1f4ddc04c770",
        "id": "mu2eBZQPsxIC"
      },
      "execution_count": 39,
      "outputs": [
        {
          "output_type": "stream",
          "name": "stdout",
          "text": [
            "2/2 [==============================] - 0s 29ms/step - loss: 1.5970 - acc: 0.7333\n",
            "[1.5970122814178467, 0.7333333492279053]\n"
          ]
        }
      ]
    },
    {
      "cell_type": "code",
      "source": [
        "index = random.randint(1,len(test_images))\n",
        "\n",
        "checkImage = test_images[index-1:index]\n",
        "checklabel = test_labels[index-1:index]\n",
        "\n",
        "predict5 = model5.predict(np.array(checkImage))\n",
        "print(predict5)\n",
        "\n",
        "output = { 0:'apple',1:'banana',2:'mixed',3:'orange'}\n",
        "\n",
        "print(\"Actual :- \",checklabel)\n",
        "print(\"Predicted :- \",output[np.argmax(predict5)])\n"
      ],
      "metadata": {
        "colab": {
          "base_uri": "https://localhost:8080/"
        },
        "outputId": "7280decd-9f0f-4138-812f-f2597d2547a4",
        "id": "cSyZQUivsxIC"
      },
      "execution_count": 59,
      "outputs": [
        {
          "output_type": "stream",
          "name": "stdout",
          "text": [
            "1/1 [==============================] - 0s 23ms/step\n",
            "[[0.00550762 0.83502364 0.05791169 0.10155713]]\n",
            "Actual :-  ['orange']\n",
            "Predicted :-  banana\n"
          ]
        }
      ]
    },
    {
      "cell_type": "markdown",
      "source": [
        "# Comparación Final"
      ],
      "metadata": {
        "id": "mUGekPE7-qvG"
      }
    },
    {
      "cell_type": "markdown",
      "source": [
        "\n",
        "\n",
        "---\n",
        "**1er Modelo:** Validtion Accuracy: 75% | Test Accuracy: 75% | Prediction Test: Failed | Conclusión: Una red densa no es suficiente\n",
        "\n",
        "\n",
        "---\n",
        "**2do Modelo:** Validtion Accuracy: 85% | Test Accuracy: 78% | Prediction Test: Failed | Conclusion: Una arquitectura más profunda puede ayudar\n",
        "\n",
        "\n",
        "---\n",
        "**3er Modelo:** Validtion Accuracy: 92% | Test Accuracy: 82% | Prediction Test: Passed | Conclusión: *Mejor modelo*\n",
        "\n",
        "\n",
        "---\n",
        "**4to Modelo:** Validtion Accuracy: 78% | Test Accuracy: 83% | Prediction Test: Passed | Conclusión: No es necesario agregar batch normalization\n",
        "\n",
        "\n",
        "---\n",
        "**5to Modelo:** Validtion Accuracy: 67% | Test Accuracy: 73% | Prediction Test: Failed | Conclusión: Demasiadas tecnicas\n",
        "\n",
        "\n",
        "---\n",
        "\n",
        "\n",
        "\n",
        "\n",
        "\n",
        "\n"
      ],
      "metadata": {
        "id": "uBdnkCeP-tUO"
      }
    },
    {
      "cell_type": "markdown",
      "source": [
        "Trabajo a futuro: \n",
        "Implementar un callback con early stopping para evitar el overfitting en el training accuracy"
      ],
      "metadata": {
        "id": "MGcU0EQS6SYf"
      }
    }
  ]
}